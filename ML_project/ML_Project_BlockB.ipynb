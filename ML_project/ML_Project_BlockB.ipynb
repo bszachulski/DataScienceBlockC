{
 "cells": [
  {
   "attachments": {},
   "cell_type": "markdown",
   "metadata": {},
   "source": [
    "# Context \n",
    "\n",
    "The aim is to create a chatbot that could provide knowledge and guidance to the users of TAMBR's solution. In order to provide domain-specific knowledge, the bot should be trained with data that lays within the context. In this scenario: sonic branding. "
   ]
  },
  {
   "attachments": {},
   "cell_type": "markdown",
   "metadata": {},
   "source": [
    "# Introduction \n",
    "\n",
    "The project below aims at showcasing how an OpenAI conversational agent (chatbot) can be trained on self-gathered data and use it as a question and a prompt for the to formulate a response. The technology shows how TAMBR could use the massive amount of information that the ChatGPT-model posseses and also counter it's weakness: being limited. The model doesn't have specific knowledge, like something about the goals of TAMBR as a company. This could be resolved by 'feeding' the bot with own data, for example from an interview with the co-founder of the company. Both the questions and the anwsers could be used to expand the knowledge of the chatbot. This could contribute to the chatbot being available to absorb any type of knowledge. \n",
    "\n",
    "### Topics: \n",
    "\n",
    "- OpenAI\n",
    "- Cosine similarity \n",
    "- Vector embedding\n",
    "- Data gathering from a YouTube video\n",
    "- AI text transcribtions\n",
    "- Data cleaning & processing\n",
    "- Working with dataframes\n",
    "- Functions \n",
    "- File writing & reading\n",
    "- Providing a personalized prompt & questions for the ChatGPT 3.5 model"
   ]
  },
  {
   "attachments": {},
   "cell_type": "markdown",
   "metadata": {},
   "source": [
    "# Install the required tools\n",
    "\n"
   ]
  },
  {
   "cell_type": "code",
   "execution_count": 3,
   "metadata": {},
   "outputs": [
    {
     "name": "stdout",
     "output_type": "stream",
     "text": [
      "Requirement already satisfied: openai in /Users/bartoszszachulski/anaconda3/lib/python3.11/site-packages (0.28.1)\n",
      "Requirement already satisfied: requests>=2.20 in /Users/bartoszszachulski/anaconda3/lib/python3.11/site-packages (from openai) (2.29.0)\n",
      "Requirement already satisfied: tqdm in /Users/bartoszszachulski/anaconda3/lib/python3.11/site-packages (from openai) (4.65.0)\n",
      "Requirement already satisfied: aiohttp in /Users/bartoszszachulski/anaconda3/lib/python3.11/site-packages (from openai) (3.8.3)\n",
      "Requirement already satisfied: charset-normalizer<4,>=2 in /Users/bartoszszachulski/anaconda3/lib/python3.11/site-packages (from requests>=2.20->openai) (2.0.4)\n",
      "Requirement already satisfied: idna<4,>=2.5 in /Users/bartoszszachulski/anaconda3/lib/python3.11/site-packages (from requests>=2.20->openai) (3.4)\n",
      "Requirement already satisfied: urllib3<1.27,>=1.21.1 in /Users/bartoszszachulski/anaconda3/lib/python3.11/site-packages (from requests>=2.20->openai) (1.26.16)\n",
      "Requirement already satisfied: certifi>=2017.4.17 in /Users/bartoszszachulski/anaconda3/lib/python3.11/site-packages (from requests>=2.20->openai) (2023.5.7)\n",
      "Requirement already satisfied: attrs>=17.3.0 in /Users/bartoszszachulski/anaconda3/lib/python3.11/site-packages (from aiohttp->openai) (22.1.0)\n",
      "Requirement already satisfied: multidict<7.0,>=4.5 in /Users/bartoszszachulski/anaconda3/lib/python3.11/site-packages (from aiohttp->openai) (6.0.2)\n",
      "Requirement already satisfied: async-timeout<5.0,>=4.0.0a3 in /Users/bartoszszachulski/anaconda3/lib/python3.11/site-packages (from aiohttp->openai) (4.0.2)\n",
      "Requirement already satisfied: yarl<2.0,>=1.0 in /Users/bartoszszachulski/anaconda3/lib/python3.11/site-packages (from aiohttp->openai) (1.8.1)\n",
      "Requirement already satisfied: frozenlist>=1.1.1 in /Users/bartoszszachulski/anaconda3/lib/python3.11/site-packages (from aiohttp->openai) (1.3.3)\n",
      "Requirement already satisfied: aiosignal>=1.1.2 in /Users/bartoszszachulski/anaconda3/lib/python3.11/site-packages (from aiohttp->openai) (1.2.0)\n",
      "Collecting whisper\n",
      "  Downloading whisper-1.1.10.tar.gz (42 kB)\n",
      "\u001b[2K     \u001b[90m━━━━━━━━━━━━━━━━━━━━━━━━━━━━━━━━━━━━━━━━\u001b[0m \u001b[32m42.8/42.8 kB\u001b[0m \u001b[31m2.4 MB/s\u001b[0m eta \u001b[36m0:00:00\u001b[0m\n",
      "\u001b[?25h  Preparing metadata (setup.py) ... \u001b[?25ldone\n",
      "\u001b[?25hRequirement already satisfied: six in /Users/bartoszszachulski/anaconda3/lib/python3.11/site-packages (from whisper) (1.16.0)\n",
      "Building wheels for collected packages: whisper\n",
      "  Building wheel for whisper (setup.py) ... \u001b[?25ldone\n",
      "\u001b[?25h  Created wheel for whisper: filename=whisper-1.1.10-py3-none-any.whl size=41121 sha256=8b8b86f20f0cfac842c28fe6399d20e3f4c4d87b3052a3b235966deb923a2ff7\n",
      "  Stored in directory: /Users/bartoszszachulski/Library/Caches/pip/wheels/21/65/ee/4e6672aabfa486d3341a39a04f8f87c77e5156149299b5a7d0\n",
      "Successfully built whisper\n",
      "Installing collected packages: whisper\n",
      "Successfully installed whisper-1.1.10\n"
     ]
    }
   ],
   "source": [
    "!pip install openai\n",
    "!pip install openai pytube -q\n",
    "!pip install whisper"
   ]
  },
  {
   "cell_type": "markdown",
   "metadata": {},
   "source": [
    "# FFmpeg\n",
    "\n",
    "_\"FFmpeg is a leading multimedia framework with the capability to decode, encode, transcode, mux, demux, stream, filter, and play a wide range of multimedia formats. It handles everything from the most obscure ancient formats to cutting-edge standards, whether designed by standards committees, communities, or corporations. FFmpeg is highly portable, seamlessly running on Linux, Mac OS X, Microsoft Windows, the BSDs, Solaris, and more. It compiles, runs, and undergoes testing infrastructure FATE across various build environments, machine architectures, and configurations._\" (About FFmpeg, n.d.)\n",
    "\n",
    "#### Importance\n",
    "This tool proved to be during the transcription of audio from .mp4 files.\n",
    "\n",
    "During the building process, an error __FileNotFoundError: [WinError 2] The system cannot find the file specified__ was encountered. Despite the specified file (.mp4 with audio) being correctly formatted, spelled accurately, and located in the root folder, the error persisted. Installing FFmpeg resolved the issue.\n",
    "\n",
    "#### Download\n",
    "For installation instructions and access to the software, refer to the following link: https://www.geeksforgeeks.org/how-to-install-ffmpeg-on-windows/"
   ]
  },
  {
   "cell_type": "markdown",
   "metadata": {},
   "source": [
    "# Code\n",
    "\n",
    "The following section tries to describe the functionality of pieces of code used for this project."
   ]
  },
  {
   "cell_type": "code",
   "execution_count": 1,
   "metadata": {},
   "outputs": [],
   "source": [
    "import openai\n",
    "import whisper\n",
    "import pandas as pd\n",
    "from pytube import YouTube\n",
    "from getpass import getpass\n",
    "\n",
    "COMPLETIONS_MODEL = \"gpt-3.5-turbo-instruct\"\n",
    "EMBEDDINGS_MODEL = \"text-embedding-ada-002\"\n",
    "\n",
    "openai.api_key = getpass()"
   ]
  },
  {
   "cell_type": "code",
   "execution_count": null,
   "metadata": {},
   "outputs": [],
   "source": [
    "pip install git+https://github.com/openai/whisper.git"
   ]
  },
  {
   "cell_type": "code",
   "execution_count": 2,
   "metadata": {},
   "outputs": [],
   "source": [
    "model = whisper.load_model('base')"
   ]
  },
  {
   "cell_type": "code",
   "execution_count": 4,
   "metadata": {},
   "outputs": [],
   "source": [
    "youtube_video_url = \"https://www.youtube.com/watch?v=2KgEQQlGrPg\"\n",
    "youtube_video = YouTube(youtube_video_url)"
   ]
  },
  {
   "cell_type": "code",
   "execution_count": 5,
   "metadata": {},
   "outputs": [
    {
     "data": {
      "text/plain": [
       "'/Users/bartoszszachulski/Library/CloudStorage/OneDrive-StichtingHogeschoolUtrecht/Data Science/Block B/Block B/ML_project/What_is_sonic_branding.mp4'"
      ]
     },
     "execution_count": 5,
     "metadata": {},
     "output_type": "execute_result"
    }
   ],
   "source": [
    "stream = youtube_video.streams.filter(only_audio=True).first()\n",
    "stream.download(filename=\"What_is_sonic_branding.mp4\")"
   ]
  },
  {
   "cell_type": "code",
   "execution_count": 6,
   "metadata": {},
   "outputs": [
    {
     "data": {
      "text/plain": [
       "\"What is sonic branding? Why it is crucial for your brand and how to get started. This video explains what sonic branding is, gives examples of how it has been used effectively and how you can get started with sonic branding. With more and more businesses producing videos, podcasts and video ads the rise in sonic branding has been increasing so it is important now more than ever to get your audio brand handled.  \\n\\nHow to build a memorable brand course - BRAND BUILDING COURSE - http://bit.ly/2Zw5dos\\n\\nIf you need help with a your sonic branding or any part of your brand you can schedule a call here - https://www.elementsbrandmanagement.co.uk/schedule-a-call\\n\\nIn order to make sure your rebrand is a success you first need to have a good understanding of your brand,  what it stands for, why it exists and the things that make you unique. If you need help defining this you can download our FREE Workbook that will help you go through this process.\\n\\nHow to define your brand - Worksheet Download  - https://bit.ly/2z8GhtN\\n\\nJump to parts of this video\\n[0:00:00] - Introduction\\n[0:00:39] - Audio Branding Introduction\\n[0:01:22] - What is Sonic Branding?\\n[0:04:29] - How Does it Fit Into Your Wider Brand?\\n[0:05:35] - Examples of Sonic Branding\\n[0:07:47] - Where Can You Start With Sonic Branding?\\n[0:09:38] - Schedule a call to book your rebrand\\n\\nLink to our previous videos \\nWhat is brand strategy? - https://youtu.be/Tndj2aEBBqc \\nHow To Build A Brand Strategy - 8 Step Process To Define Yours - https://youtu.be/-EbCsPkTqpU\\n\\n#whatissonicbranding #sonicbranding #audiobrand \\n\\n----------------\\n\\nBRAND BUILDING COURSE FOR THOSE LOOKING TO TAKE THEIR BRAND TO THE NEXT LEVEL\\n\\nIf you are looking to build an existing brand, start a side hustle or launch a completely new brand, we have put together a course that can help you to:\\n\\n- Lay a foundation for your business to grow from\\n- Define your unique brand and what makes you different\\n- Define your target audience and audience segments\\n- How to use your positioning and differentiation strategy to your advantage\\n- Help you to stand out from the competition\\n- Unlock your brand's full potential\\n- Helping you to name your brand/products or productized services\\n- Define a compelling brand personality using archetypes\\n- Create a memorable, Iconic and Impactful brand\\n- And more\\n\\nSign up now and get your brand off to a great start - http://bit.ly/2Zw5dos\\n\\n----------------\\n\\nDo Feel like your brand could use improving but not sure where to start?\\nOr are you looking to build upon and grow your existing brand to create more impact?\\n\\nOr are you seeking an impactful, iconic and memorable logo and brand identity system?\\n\\nSchedule a brand discovery consultation call here - \\nhttps://www.elementsbrandmanagement.co.uk/schedule-a-call\\n\\n__________\\n\\nWant brand strategy videos designed to help you to unlock your brand's potential so you can stand out from the competition and create impact subscribe here - https://bit.ly/2A8kpif\\n\\n__________\\n\\nWebsite - https://www.elementsbrandmanagement.co.uk\\nInstagram - https://bit.ly/3aCvc47\\nFacebook - http://bit.ly/3pJPwVy\\nTwitter - https://bit.ly/3aCHMAj\\n\\nListen to The Unified Brand PODCAST here:\\niTunes: http://apple.co/3s6LM1C\\nSpotify: http://spoti.fi/3sdg5nq \\n__________\\n\\nOTHER RESOURCES\\n\\nHow strong is your brand, take our brand assessment and find out - https://bit.ly/3DFPWWc\\n\\nUnified Brand Podcast - Interviews and insights into growing your brand -  http://spoti.fi/3sdg5nq \\n\\nBrand building course - Learn how to build a magnetic brand that stands out from the competition \\nand grows your business -  http://bit.ly/2Zw5dos\""
      ]
     },
     "execution_count": 6,
     "metadata": {},
     "output_type": "execute_result"
    }
   ],
   "source": [
    "youtube_video.description"
   ]
  },
  {
   "cell_type": "code",
   "execution_count": 9,
   "metadata": {},
   "outputs": [
    {
     "name": "stderr",
     "output_type": "stream",
     "text": [
      "/Users/bartoszszachulski/anaconda3/lib/python3.11/site-packages/whisper/transcribe.py:126: UserWarning: FP16 is not supported on CPU; using FP32 instead\n",
      "  warnings.warn(\"FP16 is not supported on CPU; using FP32 instead\")\n"
     ]
    },
    {
     "ename": "FileNotFoundError",
     "evalue": "[Errno 2] No such file or directory: 'ffmpeg'",
     "output_type": "error",
     "traceback": [
      "\u001b[0;31m---------------------------------------------------------------------------\u001b[0m",
      "\u001b[0;31mFileNotFoundError\u001b[0m                         Traceback (most recent call last)",
      "Cell \u001b[0;32mIn[9], line 1\u001b[0m\n\u001b[0;32m----> 1\u001b[0m output \u001b[39m=\u001b[39m model\u001b[39m.\u001b[39mtranscribe(\u001b[39m\"\u001b[39m\u001b[39mWhat_is_sonic_branding.mp4\u001b[39m\u001b[39m\"\u001b[39m)\n",
      "File \u001b[0;32m~/anaconda3/lib/python3.11/site-packages/whisper/transcribe.py:133\u001b[0m, in \u001b[0;36mtranscribe\u001b[0;34m(model, audio, verbose, temperature, compression_ratio_threshold, logprob_threshold, no_speech_threshold, condition_on_previous_text, initial_prompt, word_timestamps, prepend_punctuations, append_punctuations, clip_timestamps, hallucination_silence_threshold, **decode_options)\u001b[0m\n\u001b[1;32m    130\u001b[0m     decode_options[\u001b[39m\"\u001b[39m\u001b[39mfp16\u001b[39m\u001b[39m\"\u001b[39m] \u001b[39m=\u001b[39m \u001b[39mFalse\u001b[39;00m\n\u001b[1;32m    132\u001b[0m \u001b[39m# Pad 30-seconds of silence to the input audio, for slicing\u001b[39;00m\n\u001b[0;32m--> 133\u001b[0m mel \u001b[39m=\u001b[39m log_mel_spectrogram(audio, model\u001b[39m.\u001b[39mdims\u001b[39m.\u001b[39mn_mels, padding\u001b[39m=\u001b[39mN_SAMPLES)\n\u001b[1;32m    134\u001b[0m content_frames \u001b[39m=\u001b[39m mel\u001b[39m.\u001b[39mshape[\u001b[39m-\u001b[39m\u001b[39m1\u001b[39m] \u001b[39m-\u001b[39m N_FRAMES\n\u001b[1;32m    135\u001b[0m content_duration \u001b[39m=\u001b[39m \u001b[39mfloat\u001b[39m(content_frames \u001b[39m*\u001b[39m HOP_LENGTH \u001b[39m/\u001b[39m SAMPLE_RATE)\n",
      "File \u001b[0;32m~/anaconda3/lib/python3.11/site-packages/whisper/audio.py:140\u001b[0m, in \u001b[0;36mlog_mel_spectrogram\u001b[0;34m(audio, n_mels, padding, device)\u001b[0m\n\u001b[1;32m    138\u001b[0m \u001b[39mif\u001b[39;00m \u001b[39mnot\u001b[39;00m torch\u001b[39m.\u001b[39mis_tensor(audio):\n\u001b[1;32m    139\u001b[0m     \u001b[39mif\u001b[39;00m \u001b[39misinstance\u001b[39m(audio, \u001b[39mstr\u001b[39m):\n\u001b[0;32m--> 140\u001b[0m         audio \u001b[39m=\u001b[39m load_audio(audio)\n\u001b[1;32m    141\u001b[0m     audio \u001b[39m=\u001b[39m torch\u001b[39m.\u001b[39mfrom_numpy(audio)\n\u001b[1;32m    143\u001b[0m \u001b[39mif\u001b[39;00m device \u001b[39mis\u001b[39;00m \u001b[39mnot\u001b[39;00m \u001b[39mNone\u001b[39;00m:\n",
      "File \u001b[0;32m~/anaconda3/lib/python3.11/site-packages/whisper/audio.py:58\u001b[0m, in \u001b[0;36mload_audio\u001b[0;34m(file, sr)\u001b[0m\n\u001b[1;32m     56\u001b[0m \u001b[39m# fmt: on\u001b[39;00m\n\u001b[1;32m     57\u001b[0m \u001b[39mtry\u001b[39;00m:\n\u001b[0;32m---> 58\u001b[0m     out \u001b[39m=\u001b[39m run(cmd, capture_output\u001b[39m=\u001b[39m\u001b[39mTrue\u001b[39;00m, check\u001b[39m=\u001b[39m\u001b[39mTrue\u001b[39;00m)\u001b[39m.\u001b[39mstdout\n\u001b[1;32m     59\u001b[0m \u001b[39mexcept\u001b[39;00m CalledProcessError \u001b[39mas\u001b[39;00m e:\n\u001b[1;32m     60\u001b[0m     \u001b[39mraise\u001b[39;00m \u001b[39mRuntimeError\u001b[39;00m(\u001b[39mf\u001b[39m\u001b[39m\"\u001b[39m\u001b[39mFailed to load audio: \u001b[39m\u001b[39m{\u001b[39;00me\u001b[39m.\u001b[39mstderr\u001b[39m.\u001b[39mdecode()\u001b[39m}\u001b[39;00m\u001b[39m\"\u001b[39m) \u001b[39mfrom\u001b[39;00m \u001b[39me\u001b[39;00m\n",
      "File \u001b[0;32m~/anaconda3/lib/python3.11/subprocess.py:548\u001b[0m, in \u001b[0;36mrun\u001b[0;34m(input, capture_output, timeout, check, *popenargs, **kwargs)\u001b[0m\n\u001b[1;32m    545\u001b[0m     kwargs[\u001b[39m'\u001b[39m\u001b[39mstdout\u001b[39m\u001b[39m'\u001b[39m] \u001b[39m=\u001b[39m PIPE\n\u001b[1;32m    546\u001b[0m     kwargs[\u001b[39m'\u001b[39m\u001b[39mstderr\u001b[39m\u001b[39m'\u001b[39m] \u001b[39m=\u001b[39m PIPE\n\u001b[0;32m--> 548\u001b[0m \u001b[39mwith\u001b[39;00m Popen(\u001b[39m*\u001b[39mpopenargs, \u001b[39m*\u001b[39m\u001b[39m*\u001b[39mkwargs) \u001b[39mas\u001b[39;00m process:\n\u001b[1;32m    549\u001b[0m     \u001b[39mtry\u001b[39;00m:\n\u001b[1;32m    550\u001b[0m         stdout, stderr \u001b[39m=\u001b[39m process\u001b[39m.\u001b[39mcommunicate(\u001b[39minput\u001b[39m, timeout\u001b[39m=\u001b[39mtimeout)\n",
      "File \u001b[0;32m~/anaconda3/lib/python3.11/subprocess.py:1024\u001b[0m, in \u001b[0;36mPopen.__init__\u001b[0;34m(self, args, bufsize, executable, stdin, stdout, stderr, preexec_fn, close_fds, shell, cwd, env, universal_newlines, startupinfo, creationflags, restore_signals, start_new_session, pass_fds, user, group, extra_groups, encoding, errors, text, umask, pipesize, process_group)\u001b[0m\n\u001b[1;32m   1020\u001b[0m         \u001b[39mif\u001b[39;00m \u001b[39mself\u001b[39m\u001b[39m.\u001b[39mtext_mode:\n\u001b[1;32m   1021\u001b[0m             \u001b[39mself\u001b[39m\u001b[39m.\u001b[39mstderr \u001b[39m=\u001b[39m io\u001b[39m.\u001b[39mTextIOWrapper(\u001b[39mself\u001b[39m\u001b[39m.\u001b[39mstderr,\n\u001b[1;32m   1022\u001b[0m                     encoding\u001b[39m=\u001b[39mencoding, errors\u001b[39m=\u001b[39merrors)\n\u001b[0;32m-> 1024\u001b[0m     \u001b[39mself\u001b[39m\u001b[39m.\u001b[39m_execute_child(args, executable, preexec_fn, close_fds,\n\u001b[1;32m   1025\u001b[0m                         pass_fds, cwd, env,\n\u001b[1;32m   1026\u001b[0m                         startupinfo, creationflags, shell,\n\u001b[1;32m   1027\u001b[0m                         p2cread, p2cwrite,\n\u001b[1;32m   1028\u001b[0m                         c2pread, c2pwrite,\n\u001b[1;32m   1029\u001b[0m                         errread, errwrite,\n\u001b[1;32m   1030\u001b[0m                         restore_signals,\n\u001b[1;32m   1031\u001b[0m                         gid, gids, uid, umask,\n\u001b[1;32m   1032\u001b[0m                         start_new_session, process_group)\n\u001b[1;32m   1033\u001b[0m \u001b[39mexcept\u001b[39;00m:\n\u001b[1;32m   1034\u001b[0m     \u001b[39m# Cleanup if the child failed starting.\u001b[39;00m\n\u001b[1;32m   1035\u001b[0m     \u001b[39mfor\u001b[39;00m f \u001b[39min\u001b[39;00m \u001b[39mfilter\u001b[39m(\u001b[39mNone\u001b[39;00m, (\u001b[39mself\u001b[39m\u001b[39m.\u001b[39mstdin, \u001b[39mself\u001b[39m\u001b[39m.\u001b[39mstdout, \u001b[39mself\u001b[39m\u001b[39m.\u001b[39mstderr)):\n",
      "File \u001b[0;32m~/anaconda3/lib/python3.11/subprocess.py:1917\u001b[0m, in \u001b[0;36mPopen._execute_child\u001b[0;34m(self, args, executable, preexec_fn, close_fds, pass_fds, cwd, env, startupinfo, creationflags, shell, p2cread, p2cwrite, c2pread, c2pwrite, errread, errwrite, restore_signals, gid, gids, uid, umask, start_new_session, process_group)\u001b[0m\n\u001b[1;32m   1915\u001b[0m     \u001b[39mif\u001b[39;00m errno_num \u001b[39m!=\u001b[39m \u001b[39m0\u001b[39m:\n\u001b[1;32m   1916\u001b[0m         err_msg \u001b[39m=\u001b[39m os\u001b[39m.\u001b[39mstrerror(errno_num)\n\u001b[0;32m-> 1917\u001b[0m     \u001b[39mraise\u001b[39;00m child_exception_type(errno_num, err_msg, err_filename)\n\u001b[1;32m   1918\u001b[0m \u001b[39mraise\u001b[39;00m child_exception_type(err_msg)\n",
      "\u001b[0;31mFileNotFoundError\u001b[0m: [Errno 2] No such file or directory: 'ffmpeg'"
     ]
    }
   ],
   "source": [
    "output = model.transcribe(\"What_is_sonic_branding.mp4\")"
   ]
  },
  {
   "cell_type": "code",
   "execution_count": null,
   "metadata": {},
   "outputs": [],
   "source": []
  },
  {
   "cell_type": "code",
   "execution_count": 8,
   "metadata": {},
   "outputs": [
    {
     "ename": "NameError",
     "evalue": "name 'output' is not defined",
     "output_type": "error",
     "traceback": [
      "\u001b[0;31m---------------------------------------------------------------------------\u001b[0m",
      "\u001b[0;31mNameError\u001b[0m                                 Traceback (most recent call last)",
      "Cell \u001b[0;32mIn[8], line 1\u001b[0m\n\u001b[0;32m----> 1\u001b[0m output\n",
      "\u001b[0;31mNameError\u001b[0m: name 'output' is not defined"
     ]
    }
   ],
   "source": [
    "output"
   ]
  },
  {
   "cell_type": "code",
   "execution_count": 11,
   "metadata": {},
   "outputs": [
    {
     "data": {
      "text/plain": [
       "\" Do you create videos or podcasts as part of your business marketing? Are you advertising on YouTube, streaming platforms or television? Then you're probably already creating an audio brand. In this video, I'm going to describe what Sonic Branding is and why it's important for your business. Welcome to Weekly Brand Tips. Brought to you by Elements Brand Management. Weekly videos designed to help you unlock your brand's potential so you can stand out from the competition and create impacts. Please remember to subscribe, use the button below this video and if you hit the bell notification, you'll be notified every time a new video drops. Building an audio element to your brand is often an afterthought for most businesses and in some cases it's something that people don't even think of at all. But if you use music or sound effects or any kind of audio, that could be your voice or the timber of your voice or the way that you use sounds to help elevate videos or anything that you do, then you're already starting to build out an audio element to your brand, whether you realize it or not. Now most people are familiar with building a visual brand so that's kind of your logo, your visual identity and the design elements that go with it. But not a lot of people understand what building an audio brand is or what Sonic Branding is and how you can use that to build up a sort of soundscape for your brand. So what is Sonic Branding? Well if a visual brand is all about how your brand is seen, then Sonic Branding is about how your brand is heard. Now Sonic Branding has been around for a long time but recently due to the fact that more and more people can now produce videos and produce podcasts, Sonic Branding's really come into its own because more people are having to think about the audio side of their brand than ever before. There's lots of different ways that you can build this out and different things that you can use to develop your Sonic Branding. And in this video I'm sort of going to go over a few things, you know, what Sonic Branding is but also give you a few ideas on how you can build it out as part of your brand. So everything you do from the music that you use to the sound effects that you use, to the voice overs that you have, the people you choose to do voice overs, and the way that you use your voice in videos or podcasts, all comes together to form your Sonic Branding. Think of things like the sound when you start your PlayStation up or the Intel Inside advert from the 90s or those really annoying but surprisingly memorable go-compare adverts. All of these use audio elements or Sonic Branding or audio hooks to kind of make them more memorable and build out that brand and that experience. If you look at any Coca-Cola advert, you're bound to hear things like the Ringpool and how they've accentuated the opening of the Ringpool or the way that the ice hits the sides of the glass and the fizz the bubbles popping. All of this has been done deliberately in order to build out a soundscape that helps to describe the Coca-Cola brand. So why does this matter? Well, as with all brand building, you are trying to build something in the mind of your audience that is memorable, distinctive and iconic and then elicits a gut feeling or association that connects your audience to your brand. Now there is no better way of doing this than using sound. Now using sound, if you've ever gone to watch a film or any sort of TV program and you've turned, managed to turn the music off. I don't know if you've ever seen anything like that but if you turn the music off of a film, it really does seem bland. It seems like there's nothing going on and you don't know what to feel. The music almost in films tells you what to feel and how you should be feeling and brands that are clever and use site branding the right way. What they do is they help to take the viewer or their listener on a journey and allow them to understand what they should be feeling and this adds a layer to your brand where you can add that extra extra something that really talks to your audience. So if your brand is based on a personality type of say the Jester, the Jester archetype or the hero, you can really use that in the music that you use. So you can already imagine if I said to you the Jester archetype, the kind of fun loving, kind of playful type character, you can imagine some sort of soundscapes and sound effects that might go with that brand. If you say the hero type archetype, you can imagine the sort of music, the trunk and kind of sounds that could be used to get that across with your sonic branding. So how does sonic branding fit into your wider brand identity? Well, as with all sort of elements to your brand identity, it wants to be consistent. It wants to make sense with the rest elements, the rest of the other elements of your brand and it wants to do it in a way that complements your brand as opposed to dominates it. So you can imagine from the previous point, like we said, if you're a hero brand archetype, the soundscape or the sonic branding wants to make sense with your internal brand. So if you're the hero archetype, a slow meandering harp is not going to be the right sound for a hero sort of brand, whereas for a caregiver type brand, it might be. So it wants to make sure that the the sonic branding is still appropriate with the particular brand, it makes sense with the internal brand and it also adds a sort of an audio backdrop to allow the visual brand to play in. Comment below with the feeling you want to create with your brand's sonic branding. So examples of sonic branding, we mentioned earlier on the intel inside advert from the 90s with that jingle that just everyone can still remember. Coca-Cola adverts with the little sound effects of the ring pool and the ice in the glass. Another one that's quite recent is the intro to Game of Thrones. So that particular intro, the music that was used for that was done so well that it really set up the stage for that series and that fantasy world. But the things actually that happened before that, so the two adverts before the Game of Thrones came on. So in the UK, we had Volvo ad and then we had the HBO Stinger. Both of those really showed great examples of sonic branding. So the HBO sound that came on with the logo, the HBO logo, that kind of, I can't explain the sound, but that kind of operatic sound almost. That become iconic in itself and kind of primed you ready for the Game of Thrones series to come on. Now that piece of sonic branding there was really well done. And before the HBO Stinger in the UK, we had Volvo advert. It's going to Volvo short, I don't know, 10 second piece that would come on before the HBO and then Game of Thrones. And that Volvo advert was like a breath of silence followed by Volvo spoken in a Swedish accent in a very calm, deliberate way, which if you think about the brand Volvo an idea of safety and the idea of something being sturdy instead fast and very organic and very natural and very down to earth and family orientated, the way that that audio Stinger came across in that particular advert was so sort of in keeping with the brand. It was really well done. And if you look at the logo of Volvo as well, the way that they've spaced out the letters and the visual identity is almost like when the person who was saying the word Volvo was saying it, they were reading the spaces in between the actual brand logo and that visual identity. So it was done in a really good way and it really helped to get across the characteristics of the brand in not just the visual identity, but the audio brand and how they put that across. So where can you start with your audio branding or your sonic branding? If you look at some of the TV ads and look at some of the ads on the streaming platforms, take note of what they're doing and what people are actually using and how they're using audio to build their brand. Think about what emotion or feeling you're trying to create with your brand. Is this mysterious and elusive? Is it heroic and triumphant? Is it fun? Is it caring? And then think about the sounds and the instruments that you could use to convey those particular feelings and emotions. Are they natural sounding? Is it electronic? Is it very organic and tribal and drum based? Is it upbeat? Is it fast paced? The tempo change? All these things can be used to add color and variation to the particular brand, your brand and the feelings and emotions you're trying to create. Maybe your brand would benefit from using a lot of silence or really faint sounds or potentially spoken word or even an operatic choir. Anything is possible for you to use to get the sonic branding side of your brand done and get it handled and effectively communicated so that it resonates with your audience but is still in keeping with your existing brand. You do want to make sure that this fits in with your existing brand and it's something that you can be consistent with. There's no good in setting up your sonic branding at the beginning but then it's something that you can't follow up on or you can't be consistent with. So make sure whatever you do, whatever you use for your sonic branding, you have an idea and of what you're trying to create so that you can replicate that down the line and you can keep adding to it as you need to whenever you do a new video series or you do a new ad. You can tweak it slightly but it's still in keeping the previous sonic branding and your actual overall brand as a whole. So now you have a clearer idea on what sonic branding is. If you're looking to have any help with this or you need any help with it, there is a link in the description to schedule the call with us elements brand management and we can have a quick discovery call and see what we might be able to do to help you with your sonic branding. If you've enjoyed this video and you'd like to see more videos come out weekly and they're designed to help you unlock your brand's potential so you can stand up from the competition and create impact. Please remember to subscribe using the button below this video and hit the bell notification so you'll be notified every time a new video drops. Have a great week, catch up soon and keep those brands unified.\""
      ]
     },
     "execution_count": 11,
     "metadata": {},
     "output_type": "execute_result"
    }
   ],
   "source": [
    "output['text']"
   ]
  },
  {
   "cell_type": "code",
   "execution_count": 33,
   "metadata": {},
   "outputs": [],
   "source": [
    "import csv\n",
    "import pandas as pd\n",
    "\n",
    "# create a new pandas dataframe\n",
    "df = pd.DataFrame(columns=['name', 'start_timestamp', 'start', 'end', 'topics', 'context'])\n",
    "\n",
    "# index to keep track of current row\n",
    "i = 0\n",
    "\n",
    "with open('Questions_interview_raw.csv') as csv_file:\n",
    "    reader = csv.reader(csv_file)\n",
    "\n",
    "    # ignore the header row in the file\n",
    "    next(reader)\n",
    "\n",
    "    for row in reader:\n",
    "        # assign each column in the row to a variable and split questions on carriage return\n",
    "        name, topics = row\n",
    "        question_list = topics.split(\"\\n\")\n",
    "\n",
    "        # for each question in the list, extract the timestamp and convert it to seconds for youtube\n",
    "        for question in question_list:\n",
    "            pieces = question.split('-')\n",
    "            timestamp = pieces[0]\n",
    "            minutes, seconds = timestamp.split(':')\n",
    "            seconds = int(seconds) + (int(minutes) * 60)\n",
    "\n",
    "            # add a new row to the dataframe\n",
    "            df.loc[i] = [name, timestamp, seconds, 0, \" \".join(pieces[1:]), \"\"]\n",
    "\n",
    "            # set the 'end' value for the previous row\n",
    "            if i > 0:\n",
    "                df.loc[i - 1, 'end'] = seconds\n",
    "\n",
    "            i += 1\n",
    "\n",
    "# set the 'end' value for the last row\n",
    "if i > 0:\n",
    "    df.loc[i - 1, 'end'] = seconds\n",
    "\n",
    "df.to_csv(\"questions.csv\")\n"
   ]
  },
  {
   "cell_type": "code",
   "execution_count": 34,
   "metadata": {},
   "outputs": [
    {
     "data": {
      "text/html": [
       "<div>\n",
       "<style scoped>\n",
       "    .dataframe tbody tr th:only-of-type {\n",
       "        vertical-align: middle;\n",
       "    }\n",
       "\n",
       "    .dataframe tbody tr th {\n",
       "        vertical-align: top;\n",
       "    }\n",
       "\n",
       "    .dataframe thead th {\n",
       "        text-align: right;\n",
       "    }\n",
       "</style>\n",
       "<table border=\"1\" class=\"dataframe\">\n",
       "  <thead>\n",
       "    <tr style=\"text-align: right;\">\n",
       "      <th></th>\n",
       "      <th>Unnamed: 0</th>\n",
       "      <th>name</th>\n",
       "      <th>start_timestamp</th>\n",
       "      <th>start</th>\n",
       "      <th>end</th>\n",
       "      <th>topics</th>\n",
       "      <th>context</th>\n",
       "    </tr>\n",
       "  </thead>\n",
       "  <tbody>\n",
       "    <tr>\n",
       "      <th>0</th>\n",
       "      <td>0</td>\n",
       "      <td>Sonic branding interview</td>\n",
       "      <td>00:00</td>\n",
       "      <td>0</td>\n",
       "      <td>82</td>\n",
       "      <td>Introduction</td>\n",
       "      <td>NaN</td>\n",
       "    </tr>\n",
       "    <tr>\n",
       "      <th>1</th>\n",
       "      <td>1</td>\n",
       "      <td>Sonic branding interview</td>\n",
       "      <td>01:22</td>\n",
       "      <td>82</td>\n",
       "      <td>269</td>\n",
       "      <td>What is Sonic Branding?</td>\n",
       "      <td>NaN</td>\n",
       "    </tr>\n",
       "    <tr>\n",
       "      <th>2</th>\n",
       "      <td>2</td>\n",
       "      <td>Sonic branding interview</td>\n",
       "      <td>04:29</td>\n",
       "      <td>269</td>\n",
       "      <td>335</td>\n",
       "      <td>How does it fit into your wider brand?</td>\n",
       "      <td>NaN</td>\n",
       "    </tr>\n",
       "    <tr>\n",
       "      <th>3</th>\n",
       "      <td>3</td>\n",
       "      <td>Sonic branding interview</td>\n",
       "      <td>05:35</td>\n",
       "      <td>335</td>\n",
       "      <td>467</td>\n",
       "      <td>Examples of Sonic Branding</td>\n",
       "      <td>NaN</td>\n",
       "    </tr>\n",
       "    <tr>\n",
       "      <th>4</th>\n",
       "      <td>4</td>\n",
       "      <td>Sonic branding interview</td>\n",
       "      <td>07:47</td>\n",
       "      <td>467</td>\n",
       "      <td>578</td>\n",
       "      <td>Where can you start with Sonic Branding?</td>\n",
       "      <td>NaN</td>\n",
       "    </tr>\n",
       "    <tr>\n",
       "      <th>5</th>\n",
       "      <td>5</td>\n",
       "      <td>Sonic branding interview</td>\n",
       "      <td>09:38</td>\n",
       "      <td>578</td>\n",
       "      <td>578</td>\n",
       "      <td>Promotion by the interviewee</td>\n",
       "      <td>NaN</td>\n",
       "    </tr>\n",
       "  </tbody>\n",
       "</table>\n",
       "</div>"
      ],
      "text/plain": [
       "   Unnamed: 0                      name start_timestamp  start  end  \\\n",
       "0           0  Sonic branding interview          00:00       0   82   \n",
       "1           1  Sonic branding interview          01:22      82  269   \n",
       "2           2  Sonic branding interview          04:29     269  335   \n",
       "3           3  Sonic branding interview          05:35     335  467   \n",
       "4           4  Sonic branding interview          07:47     467  578   \n",
       "5           5  Sonic branding interview          09:38     578  578   \n",
       "\n",
       "                                      topics  context  \n",
       "0                               Introduction      NaN  \n",
       "1                    What is Sonic Branding?      NaN  \n",
       "2     How does it fit into your wider brand?      NaN  \n",
       "3                 Examples of Sonic Branding      NaN  \n",
       "4   Where can you start with Sonic Branding?      NaN  \n",
       "5               Promotion by the interviewee      NaN  "
      ]
     },
     "execution_count": 34,
     "metadata": {},
     "output_type": "execute_result"
    }
   ],
   "source": [
    "import pandas as pd\n",
    "\n",
    "df = pd.read_csv('questions.csv')\n",
    "df"
   ]
  },
  {
   "cell_type": "code",
   "execution_count": 69,
   "metadata": {},
   "outputs": [
    {
     "data": {
      "text/html": [
       "<div>\n",
       "<style scoped>\n",
       "    .dataframe tbody tr th:only-of-type {\n",
       "        vertical-align: middle;\n",
       "    }\n",
       "\n",
       "    .dataframe tbody tr th {\n",
       "        vertical-align: top;\n",
       "    }\n",
       "\n",
       "    .dataframe thead th {\n",
       "        text-align: right;\n",
       "    }\n",
       "</style>\n",
       "<table border=\"1\" class=\"dataframe\">\n",
       "  <thead>\n",
       "    <tr style=\"text-align: right;\">\n",
       "      <th></th>\n",
       "      <th>Unnamed: 0</th>\n",
       "      <th>name</th>\n",
       "      <th>start_timestamp</th>\n",
       "      <th>start</th>\n",
       "      <th>end</th>\n",
       "      <th>topics</th>\n",
       "      <th>context</th>\n",
       "      <th>embedding</th>\n",
       "      <th>similarities</th>\n",
       "    </tr>\n",
       "  </thead>\n",
       "  <tbody>\n",
       "    <tr>\n",
       "      <th>0</th>\n",
       "      <td>0</td>\n",
       "      <td>Sonic branding interview</td>\n",
       "      <td>00:00</td>\n",
       "      <td>0</td>\n",
       "      <td>82</td>\n",
       "      <td>Introduction</td>\n",
       "      <td>Introduction streaming platforms or televisio...</td>\n",
       "      <td>[0.005746083799749613, -0.010243019089102745, ...</td>\n",
       "      <td>0.761444</td>\n",
       "    </tr>\n",
       "    <tr>\n",
       "      <th>1</th>\n",
       "      <td>1</td>\n",
       "      <td>Sonic branding interview</td>\n",
       "      <td>01:22</td>\n",
       "      <td>82</td>\n",
       "      <td>269</td>\n",
       "      <td>What is Sonic Branding?</td>\n",
       "      <td>What is Sonic Branding? So what is Sonic Bran...</td>\n",
       "      <td>[0.014343622140586376, 0.005023498088121414, 0...</td>\n",
       "      <td>0.752956</td>\n",
       "    </tr>\n",
       "  </tbody>\n",
       "</table>\n",
       "</div>"
      ],
      "text/plain": [
       "   Unnamed: 0                      name start_timestamp  start  end  \\\n",
       "0           0  Sonic branding interview          00:00       0   82   \n",
       "1           1  Sonic branding interview          01:22      82  269   \n",
       "\n",
       "                     topics  \\\n",
       "0              Introduction   \n",
       "1   What is Sonic Branding?   \n",
       "\n",
       "                                             context  \\\n",
       "0   Introduction streaming platforms or televisio...   \n",
       "1   What is Sonic Branding? So what is Sonic Bran...   \n",
       "\n",
       "                                           embedding  similarities  \n",
       "0  [0.005746083799749613, -0.010243019089102745, ...      0.761444  \n",
       "1  [0.014343622140586376, 0.005023498088121414, 0...      0.752956  "
      ]
     },
     "execution_count": 69,
     "metadata": {},
     "output_type": "execute_result"
    }
   ],
   "source": [
    "def is_part_of_question(segment, start, end):\n",
    "    if segment['start'] > start:\n",
    "      if segment['end'] < end or end == 0:\n",
    "          return True \n",
    "\n",
    "    return False\n",
    "\n",
    "def get_question_context(row):\n",
    "     global output\n",
    "\n",
    "     question_segments = list(filter(lambda segment: is_part_of_question(segment, row['start'], row['end']), output['segments']))\n",
    "     # include question from timestamp in the context\n",
    "     context = row['topics']\n",
    "     for segment in question_segments:\n",
    "         context += segment['text']\n",
    "\n",
    "     return context\n",
    "\n",
    "df['context'] = df.apply(get_question_context, axis=1)\n",
    "\n",
    "df\n"
   ]
  },
  {
   "cell_type": "code",
   "execution_count": 55,
   "metadata": {},
   "outputs": [],
   "source": [
    "from openai.embeddings_utils import get_embedding\n",
    "\n",
    "\n",
    "df['embedding'] = df['context'].apply(lambda row: get_embedding(row, engine='text-embedding-ada-002'))\n",
    "df.to_csv('questions_embeddings.csv')"
   ]
  },
  {
   "cell_type": "code",
   "execution_count": 64,
   "metadata": {},
   "outputs": [
    {
     "data": {
      "text/html": [
       "<div>\n",
       "<style scoped>\n",
       "    .dataframe tbody tr th:only-of-type {\n",
       "        vertical-align: middle;\n",
       "    }\n",
       "\n",
       "    .dataframe tbody tr th {\n",
       "        vertical-align: top;\n",
       "    }\n",
       "\n",
       "    .dataframe thead th {\n",
       "        text-align: right;\n",
       "    }\n",
       "</style>\n",
       "<table border=\"1\" class=\"dataframe\">\n",
       "  <thead>\n",
       "    <tr style=\"text-align: right;\">\n",
       "      <th></th>\n",
       "      <th>Unnamed: 0</th>\n",
       "      <th>name</th>\n",
       "      <th>start_timestamp</th>\n",
       "      <th>start</th>\n",
       "      <th>end</th>\n",
       "      <th>topics</th>\n",
       "      <th>context</th>\n",
       "      <th>embedding</th>\n",
       "      <th>similarities</th>\n",
       "    </tr>\n",
       "  </thead>\n",
       "  <tbody>\n",
       "    <tr>\n",
       "      <th>0</th>\n",
       "      <td>0</td>\n",
       "      <td>Sonic branding interview</td>\n",
       "      <td>00:00</td>\n",
       "      <td>0</td>\n",
       "      <td>82</td>\n",
       "      <td>Introduction</td>\n",
       "      <td>Introduction streaming platforms or televisio...</td>\n",
       "      <td>[0.005746083799749613, -0.010243019089102745, ...</td>\n",
       "      <td>0.761444</td>\n",
       "    </tr>\n",
       "    <tr>\n",
       "      <th>1</th>\n",
       "      <td>1</td>\n",
       "      <td>Sonic branding interview</td>\n",
       "      <td>01:22</td>\n",
       "      <td>82</td>\n",
       "      <td>269</td>\n",
       "      <td>What is Sonic Branding?</td>\n",
       "      <td>What is Sonic Branding? So what is Sonic Bran...</td>\n",
       "      <td>[0.014343622140586376, 0.005023498088121414, 0...</td>\n",
       "      <td>0.752956</td>\n",
       "    </tr>\n",
       "  </tbody>\n",
       "</table>\n",
       "</div>"
      ],
      "text/plain": [
       "   Unnamed: 0                      name start_timestamp  start  end  \\\n",
       "0           0  Sonic branding interview          00:00       0   82   \n",
       "1           1  Sonic branding interview          01:22      82  269   \n",
       "\n",
       "                     topics  \\\n",
       "0              Introduction   \n",
       "1   What is Sonic Branding?   \n",
       "\n",
       "                                             context  \\\n",
       "0   Introduction streaming platforms or televisio...   \n",
       "1   What is Sonic Branding? So what is Sonic Bran...   \n",
       "\n",
       "                                           embedding  similarities  \n",
       "0  [0.005746083799749613, -0.010243019089102745, ...      0.761444  \n",
       "1  [0.014343622140586376, 0.005023498088121414, 0...      0.752956  "
      ]
     },
     "execution_count": 64,
     "metadata": {},
     "output_type": "execute_result"
    }
   ],
   "source": [
    "from openai.embeddings_utils import cosine_similarity\n",
    "\n",
    "question = \"What is music?\"\n",
    "question_vector = get_embedding(question, engine='text-embedding-ada-002')\n",
    "\n",
    "df[\"similarities\"] = df['embedding'].apply(lambda x: cosine_similarity(x, question_vector))\n",
    "df = df.sort_values(\"similarities\", ascending=False).head(2)\n",
    "\n",
    "df"
   ]
  },
  {
   "cell_type": "code",
   "execution_count": 65,
   "metadata": {},
   "outputs": [
    {
     "data": {
      "text/plain": [
       "[\" Introduction streaming platforms or television? Then you're probably already creating an audio brand. In this video, I'm going to describe what Sonic Branding is and why it's important for your business. Welcome to Weekly Brand Tips. Brought to you by Elements Brand Management. Weekly videos designed to help you unlock your brand's potential so you can stand out from the competition and create impacts. Please remember to subscribe, use the button below this video and if you hit the bell notification, you'll be notified every time a new video drops. Building an audio element to your brand is often an afterthought for most businesses and in some cases it's something that people don't even think of at all. But if you use music or sound effects or any kind of audio, that could be your voice or the timber of your voice or the way that you use sounds to help elevate videos or anything that you do, then you're already starting to build out an audio element to your brand, whether you realize it or not. Now most people are familiar with building a visual brand so that's kind of your logo, your visual identity and the design elements that go with it. But not a lot of people understand what building an audio brand is or what Sonic Branding is and how you can use that to build up a sort of soundscape for your brand.\",\n",
       " \" What is Sonic Branding? So what is Sonic Branding? Well if a visual brand is all about how your brand is seen, then Sonic Branding is about how your brand is heard. Now Sonic Branding has been around for a long time but recently due to the fact that more and more people can now produce videos and produce podcasts, Sonic Branding's really come into its own because more people are having to think about the audio side of their brand than ever before. There's lots of different ways that you can build this out and different things that you can use to develop your Sonic Branding. And in this video I'm sort of going to go over a few things, you know, what Sonic Branding is but also give you a few ideas on how you can build it out as part of your brand. So everything you do from the music that you use to the sound effects that you use, to the voice overs that you have, the people you choose to do voice overs, and the way that you use your voice in videos or podcasts, all comes together to form your Sonic Branding. Think of things like the sound when you start your PlayStation up or the Intel Inside advert from the 90s or those really annoying but surprisingly memorable go-compare adverts. All of these use audio elements or Sonic Branding or audio hooks to kind of make them more memorable and build out that brand and that experience. If you look at any Coca-Cola advert, you're bound to hear things like the Ringpool and how they've accentuated the opening of the Ringpool or the way that the ice hits the sides of the glass and the fizz the bubbles popping. All of this has been done deliberately in order to build out a soundscape that helps to describe the Coca-Cola brand. So why does this matter? Well, as with all brand building, you are trying to build something in the mind of your audience that is memorable, distinctive and iconic and then elicits a gut feeling or association that connects your audience to your brand. Now there is no better way of doing this than using sound. Now using sound, if you've ever gone to watch a film or any sort of TV program and you've turned, managed to turn the music off. I don't know if you've ever seen anything like that but if you turn the music off of a film, it really does seem bland. It seems like there's nothing going on and you don't know what to feel. The music almost in films tells you what to feel and how you should be feeling and brands that are clever and use site branding the right way. What they do is they help to take the viewer or their listener on a journey and allow them to understand what they should be feeling and this adds a layer to your brand where you can add that extra extra something that really talks to your audience. So if your brand is based on a personality type of say the Jester, the Jester archetype or the hero, you can really use that in the music that you use. So you can already imagine if I said to you the Jester archetype, the kind of fun loving, kind of playful type character, you can imagine some sort of soundscapes and sound effects that might go with that brand. If you say the hero type archetype, you can imagine the sort of music, the trunk and kind\"]"
      ]
     },
     "execution_count": 65,
     "metadata": {},
     "output_type": "execute_result"
    }
   ],
   "source": [
    "context = []\n",
    "for i, row in df.iterrows():\n",
    "  context.append(row['context'])\n",
    "\n",
    "context"
   ]
  },
  {
   "cell_type": "code",
   "execution_count": 66,
   "metadata": {},
   "outputs": [
    {
     "data": {
      "text/plain": [
       "\" Introduction streaming platforms or television? Then you're probably already creating an audio brand. In this video, I'm going to describe what Sonic Branding is and why it's important for your business. Welcome to Weekly Brand Tips. Brought to you by Elements Brand Management. Weekly videos designed to help you unlock your brand's potential so you can stand out from the competition and create impacts. Please remember to subscribe, use the button below this video and if you hit the bell notification, you'll be notified every time a new video drops. Building an audio element to your brand is often an afterthought for most businesses and in some cases it's something that people don't even think of at all. But if you use music or sound effects or any kind of audio, that could be your voice or the timber of your voice or the way that you use sounds to help elevate videos or anything that you do, then you're already starting to build out an audio element to your brand, whether you realize it or not. Now most people are familiar with building a visual brand so that's kind of your logo, your visual identity and the design elements that go with it. But not a lot of people understand what building an audio brand is or what Sonic Branding is and how you can use that to build up a sort of soundscape for your brand.\\n What is Sonic Branding? So what is Sonic Branding? Well if a visual brand is all about how your brand is seen, then Sonic Branding is about how your brand is heard. Now Sonic Branding has been around for a long time but recently due to the fact that more and more people can now produce videos and produce podcasts, Sonic Branding's really come into its own because more people are having to think about the audio side of their brand than ever before. There's lots of different ways that you can build this out and different things that you can use to develop your Sonic Branding. And in this video I'm sort of going to go over a few things, you know, what Sonic Branding is but also give you a few ideas on how you can build it out as part of your brand. So everything you do from the music that you use to the sound effects that you use, to the voice overs that you have, the people you choose to do voice overs, and the way that you use your voice in videos or podcasts, all comes together to form your Sonic Branding. Think of things like the sound when you start your PlayStation up or the Intel Inside advert from the 90s or those really annoying but surprisingly memorable go-compare adverts. All of these use audio elements or Sonic Branding or audio hooks to kind of make them more memorable and build out that brand and that experience. If you look at any Coca-Cola advert, you're bound to hear things like the Ringpool and how they've accentuated the opening of the Ringpool or the way that the ice hits the sides of the glass and the fizz the bubbles popping. All of this has been done deliberately in order to build out a soundscape that helps to describe the Coca-Cola brand. So why does this matter? Well, as with all brand building, you are trying to build something in the mind of your audience that is memorable, distinctive and iconic and then elicits a gut feeling or association that connects your audience to your brand. Now there is no better way of doing this than using sound. Now using sound, if you've ever gone to watch a film or any sort of TV program and you've turned, managed to turn the music off. I don't know if you've ever seen anything like that but if you turn the music off of a film, it really does seem bland. It seems like there's nothing going on and you don't know what to feel. The music almost in films tells you what to feel and how you should be feeling and brands that are clever and use site branding the right way. What they do is they help to take the viewer or their listener on a journey and allow them to understand what they should be feeling and this adds a layer to your brand where you can add that extra extra something that really talks to your audience. So if your brand is based on a personality type of say the Jester, the Jester archetype or the hero, you can really use that in the music that you use. So you can already imagine if I said to you the Jester archetype, the kind of fun loving, kind of playful type character, you can imagine some sort of soundscapes and sound effects that might go with that brand. If you say the hero type archetype, you can imagine the sort of music, the trunk and kind\""
      ]
     },
     "execution_count": 66,
     "metadata": {},
     "output_type": "execute_result"
    }
   ],
   "source": [
    "text = \"\\n\".join(context)\n",
    "text"
   ]
  },
  {
   "cell_type": "code",
   "execution_count": 67,
   "metadata": {},
   "outputs": [
    {
     "data": {
      "text/plain": [
       "\" Introduction streaming platforms or television? Then you're probably already creating an audio brand. In this video, I'm going to describe what Sonic Branding is and why it's important for your business. Welcome to Weekly Brand Tips. Brought to you by Elements Brand Management. Weekly videos designed to help you unlock your brand's potential so you can stand out from the competition and create impacts. Please remember to subscribe, use the button below this video and if you hit the bell notification, you'll be notified every time a new video drops. Building an audio element to your brand is often an afterthought for most businesses and in some cases it's something that people don't even think of at all. But if you use music or sound effects or any kind of audio, that could be your voice or the timber of your voice or the way that you use sounds to help elevate videos or anything that you do, then you're already starting to build out an audio element to your brand, whether you realize it or not. Now most people are familiar with building a visual brand so that's kind of your logo, your visual identity and the design elements that go with it. But not a lot of people understand what building an audio brand is or what Sonic Branding is and how you can use that to build up a sort of soundscape for your brand.\\n What is Sonic Branding? So what is Sonic Branding? Well if a visual brand is all about how your brand is seen, then Sonic Branding is about how your brand is heard. Now Sonic Branding has been around for a long time but recently due to the fact that more and more people can now produce videos and produce podcasts, Sonic Branding's really come into its own because more people are having to think about the audio side of their brand than ever before. There's lots of different ways that you can build this out and different things that you can use to develop your Sonic Branding. And in this video I'm sort of going to go over a few things, you know, what Sonic Branding is but also give you a few ideas on how you can build it out as part of your brand. So everything you do from the music that you use to the sound effects that you use, to the voice overs that you have, the people you choose to do voice overs, and the way that you use your voice in videos or podcasts, all comes together to form your Sonic Branding. Think of things like the sound when you start your PlayStation up or the Intel Inside advert from the 90s or those really annoying but surprisingly memorable go-compare adverts. All of these use audio elements or Sonic Branding or audio hooks to kind of make them more memorable and build out that brand and that experience. If you look at any Coca-Cola advert, you're bound to hear things like the Ringpool and how they've accentuated the opening of the Ringpool or the way that the ice hits the sides of the glass and the fizz the bubbles popping. All of this has been done deliberately in order to build out a soundscape that helps to describe the Coca-Cola brand. So why does this matter? Well, as with all brand building, you are trying to build something in the mind of your audience that is memorable, distinctive and iconic and then elicits a gut feeling or association that connects your audience to your brand. Now there is no better way of doing this than using sound. Now using sound, if you've ever gone to watch a film or any sort of TV program and you've turned, managed to turn the music off. I don't know if you've ever seen anything like that but if you turn the music off of a film, it really does seem bland. It seems like there's nothing going on and you don't know what to feel. The music almost in films tells you what to feel and how you should be feeling and brands that are clever and use site branding the right way. What they do is they help to take the viewer or their listener on a journey and allow them to understand what they should be feeling and this adds a layer to your brand where you can add that extra extra something that really talks to your audience. So if your brand is based on a personality type of say the Jester, the Jester archetype or the hero, you can really use that in the music that you use. So you can already imagine if I said to you the Jester archetype, the kind of fun loving, kind of playful type character, you can imagine some sort of soundscapes and sound effects that might go with that brand. If you say the hero type archetype, you can imagine the sort of music, the trunk and kind\""
      ]
     },
     "execution_count": 67,
     "metadata": {},
     "output_type": "execute_result"
    }
   ],
   "source": [
    "context = text\n",
    "\n",
    "context"
   ]
  },
  {
   "cell_type": "code",
   "execution_count": 68,
   "metadata": {},
   "outputs": [
    {
     "data": {
      "text/plain": [
       "'Music is an element of branding that businesses can use to create a sound or sonic identity to connect with their audience and elicit emotions or associations. It is typically used in videos, podcasts, and other media to enhance the overall brand experience.'"
      ]
     },
     "execution_count": 68,
     "metadata": {},
     "output_type": "execute_result"
    }
   ],
   "source": [
    "prompt = f\"\"\"Answer the following question using only the context below. \n",
    "\n",
    "Context:\n",
    "{context}\n",
    "\n",
    "Q: {question}\n",
    "A:\"\"\"\n",
    "\n",
    "openai.Completion.create(\n",
    "    prompt=prompt,\n",
    "    temperature=1,\n",
    "    max_tokens=500,\n",
    "    top_p=1,\n",
    "    frequency_penalty=0,\n",
    "    presence_penalty=0,\n",
    "    model=\"gpt-3.5-turbo-instruct\"\n",
    ")[\"choices\"][0][\"text\"].strip(\" \\n\")"
   ]
  },
  {
   "attachments": {
    "image.png": {
     "image/png": "[encoded data removed]"
    }
   },
   "cell_type": "markdown",
   "metadata": {},
   "source": [
    "Unfortunately, due to time constraints, I didn't manage to document the whole process. The code does work, however. The output of the last piece of code is:\n",
    "\n",
    "![image.png](attachment:image.png)\n",
    "\n",
    "The question asked to the ChatGPT model was: \"What is music?\" You can see that the anwser seems all right."
   ]
  },
  {
   "attachments": {},
   "cell_type": "markdown",
   "metadata": {},
   "source": [
    "# References\n",
    "\n",
    "Msv, J. (2023, 4 augustus). Tutorial: Use Chroma and OpenAI to build a custom Q&A bot. The New Stack. https://thenewstack.io/tutorial-use-chroma-and-openai-to-build-a-custom-qa-bot/\n",
    "\n",
    "Google Colaboratory. (z.d.). https://colab.research.google.com/drive/1tttDqgnWL9yJtmlOFXJqA-BjQ1Pyfpax?usp=sharing#scrollTo=VsqkYbCD05TC\n",
    "\n",
    "Stack Overflow - where developers learn, share, & build careers. (z.d.). Stack Overflow. https://stackoverflow.com/\n",
    "\n",
    "OpenAI Developer Forum. (z.d.). OpenAI Developer Forum. https://community.openai.com/\n",
    "\n",
    "Python Tutorial. (2022, 3 december). Python Tutorial. Python Tutorial - Master Python Programming For Beginners from Scratch. https://www.pythontutorial.net/\n",
    "\n",
    "How to use Audacity - Audacity Manual. (z.d.). https://manual.audacityteam.org/man/how_to_use_audacity.html\n",
    "\n",
    "Audacity Manual. (z.d.). https://manual.audacityteam.org/index.html\n",
    "\n",
    "https://www.geeksforgeeks.org/how-to-install-ffmpeg-on-windows/\n",
    "\n",
    "About FFMPEG. (z.d.). https://ffmpeg.org/about.html"
   ]
  },
  {
   "cell_type": "markdown",
   "metadata": {},
   "source": []
  }
 ],
 "metadata": {
  "kernelspec": {
   "display_name": "base",
   "language": "python",
   "name": "python3"
  },
  "language_info": {
   "codemirror_mode": {
    "name": "ipython",
    "version": 3
   },
   "file_extension": ".py",
   "mimetype": "text/x-python",
   "name": "python",
   "nbconvert_exporter": "python",
   "pygments_lexer": "ipython3",
   "version": "3.11.3"
  },
  "orig_nbformat": 4
 },
 "nbformat": 4,
 "nbformat_minor": 2
}
